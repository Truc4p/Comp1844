{
 "cells": [
  {
   "cell_type": "markdown",
   "metadata": {},
   "source": [
    "slide 1"
   ]
  },
  {
   "cell_type": "code",
   "execution_count": 2,
   "metadata": {},
   "outputs": [
    {
     "name": "stdout",
     "output_type": "stream",
     "text": [
      "9 45 58 27 13 83 37 92 29 22 \n",
      "85 29 68 26 30 15 19 60 27 92 \n",
      "41 93 3 18 1 31 72 11 4 78 \n",
      "60 61 95 80 65 6 95 11 4 96 \n",
      "34 47 66 35 76 13 89 95 22 12 \n",
      "56 57 14 19 84 59 47 67 52 25 \n",
      "12 32 29 5 89 89 84 17 37 50 \n",
      "81 50 85 29 50 76 7 34 48 26 \n",
      "85 71 49 49 96 76 68 43 77 37 \n",
      "30 88 62 46 52 4 12 30 30 35 \n"
     ]
    }
   ],
   "source": [
    "import numpy as np\n",
    "import random as rnd\n",
    "MyArray = np.empty(shape=(10, 10), dtype=int)\n",
    "for i in range(0, 10):\n",
    "    for j in range(0, 10):\n",
    "        MyArray[i, j] = rnd.randint(0, 99)\n",
    "        print(MyArray[i, j], end=' ')\n",
    "    print('')\n",
    "np.savetxt('MyArray.csv', MyArray, fmt='%d', delimiter=',')"
   ]
  },
  {
   "cell_type": "code",
   "execution_count": 3,
   "metadata": {},
   "outputs": [
    {
     "name": "stdout",
     "output_type": "stream",
     "text": [
      "(10, 10)\n"
     ]
    }
   ],
   "source": [
    "MyNewArray = np.genfromtxt('MyArray.csv', delimiter=',', dtype='unicode')\n",
    "print(MyNewArray.shape)"
   ]
  },
  {
   "cell_type": "code",
   "execution_count": 4,
   "metadata": {},
   "outputs": [],
   "source": [
    "import pandas as pd\n",
    "MyDataFrame = pd.DataFrame(index=[1, 2], columns=['City', 'Population',\n",
    "'Country'])\n",
    "MyDataFrame.loc[1, 'City'] = 'New York'\n",
    "MyDataFrame.loc[1, 'Population'] = 8100000\n",
    "MyDataFrame.loc[1, 'Country'] = 'USA'\n",
    "MyDataFrame.loc[2, 'City'] = 'Seoul'\n",
    "MyDataFrame.loc[2, 'Population'] = 9700000\n",
    "MyDataFrame.loc[2, 'Country'] = 'South Korea'\n",
    "MyDataFrame.to_csv('MyNewFile.csv')"
   ]
  },
  {
   "cell_type": "code",
   "execution_count": 5,
   "metadata": {},
   "outputs": [
    {
     "name": "stdout",
     "output_type": "stream",
     "text": [
      "       City  Population      Country\n",
      "1  New York     8100000          USA\n",
      "2     Seoul     9700000  South Korea\n"
     ]
    }
   ],
   "source": [
    "MyNewDataFrame = pd.read_csv('MyNewFile.csv', index_col=0)\n",
    "print(MyNewDataFrame.to_string())"
   ]
  },
  {
   "cell_type": "markdown",
   "metadata": {},
   "source": [
    "slide 2"
   ]
  },
  {
   "cell_type": "code",
   "execution_count": 6,
   "metadata": {},
   "outputs": [
    {
     "name": "stdout",
     "output_type": "stream",
     "text": [
      "0    1\n",
      "1    2\n",
      "2    3\n",
      "3    4\n"
     ]
    }
   ],
   "source": [
    "# Initialise series directly\n",
    "MySeries = pd.Series(data=[1, 2, 3, 4], dtype='int')\n",
    "# Display the series on the screen\n",
    "print(MySeries.to_string())"
   ]
  },
  {
   "cell_type": "code",
   "execution_count": 7,
   "metadata": {},
   "outputs": [
    {
     "name": "stdout",
     "output_type": "stream",
     "text": [
      "a    1\n",
      "b    2\n",
      "c    3\n",
      "d    4\n"
     ]
    }
   ],
   "source": [
    "# Initialise series directly\n",
    "MySeries = pd.Series(data=[1, 2, 3, 4], index=['a', 'b', 'c', 'd'], dtype='int')\n",
    "# Display the series on the screen\n",
    "print(MySeries.to_string())"
   ]
  },
  {
   "cell_type": "code",
   "execution_count": 8,
   "metadata": {},
   "outputs": [
    {
     "name": "stdout",
     "output_type": "stream",
     "text": [
      "0    10\n",
      "1    20\n",
      "2    30\n",
      "3    40\n"
     ]
    }
   ],
   "source": [
    "# Initialise a list\n",
    "L = [10, 20, 30, 40]\n",
    "# Initialise series using values from the list\n",
    "MySeries = pd.Series(data=L, dtype='int')\n",
    "# Display the series on the screen\n",
    "print(MySeries.to_string())"
   ]
  },
  {
   "cell_type": "code",
   "execution_count": 9,
   "metadata": {},
   "outputs": [
    {
     "name": "stdout",
     "output_type": "stream",
     "text": [
      "[ 5.2  5.3  7.6  9.9 13.3 16.5 18.7 18.5 15.7 12.   8.   5.5]\n"
     ]
    }
   ],
   "source": [
    "import calendar\n",
    "MyArray = np.array([5.2, 5.3, 7.6, 9.9, 13.3, 16.5, 18.7, 18.5, 15.7, 12.0, 8.0, 5.5] , dtype='float')\n",
    "print(MyArray)"
   ]
  },
  {
   "cell_type": "code",
   "execution_count": 13,
   "metadata": {},
   "outputs": [
    {
     "name": "stdout",
     "output_type": "stream",
     "text": [
      "January       5.2\n",
      "February      5.3\n",
      "March         7.6\n",
      "April         9.9\n",
      "May          13.3\n",
      "June         16.5\n",
      "July         18.7\n",
      "August       18.5\n",
      "September    15.7\n",
      "October      12.0\n",
      "November      8.0\n",
      "December      5.5\n",
      "Name: Temperatures, dtype: float64\n"
     ]
    }
   ],
   "source": [
    "# Initialise an empty list\n",
    "Months = []\n",
    "# Add the names of the months to the list\n",
    "for i in range(1, 13):\n",
    " Months.append(calendar.month_name[i])\n",
    "# Initialise the series\n",
    "MySeries = pd.Series(data=MyArray, name='Temperatures', index=Months)\n",
    "print(MySeries)"
   ]
  },
  {
   "cell_type": "code",
   "execution_count": 23,
   "metadata": {},
   "outputs": [
    {
     "name": "stdout",
     "output_type": "stream",
     "text": [
      "January      1497.352525\n",
      "February     1500.753747\n",
      "March        1578.981862\n",
      "April        1657.209978\n",
      "May          1772.851539\n",
      "June         1881.690656\n",
      "July         1956.517549\n",
      "August       1949.715104\n",
      "September    1854.480877\n",
      "October      1728.635648\n",
      "November     1592.586752\n",
      "December     1507.556192\n"
     ]
    },
    {
     "name": "stderr",
     "output_type": "stream",
     "text": [
      "/var/folders/mp/qpx8mdbx61ld441h_t256r180000gn/T/ipykernel_16828/2378580127.py:3: FutureWarning: Series.__getitem__ treating keys as positions is deprecated. In a future version, integer keys will always be treated as labels (consistent with DataFrame behavior). To access a value by position, use `ser.iloc[pos]`\n",
      "  MySeries[i] = float(MySeries[i]*(9/5)+32)\n",
      "/var/folders/mp/qpx8mdbx61ld441h_t256r180000gn/T/ipykernel_16828/2378580127.py:3: FutureWarning: Series.__setitem__ treating keys as positions is deprecated. In a future version, integer keys will always be treated as labels (consistent with DataFrame behavior). To set a value by position, use `ser.iloc[pos] = value`\n",
      "  MySeries[i] = float(MySeries[i]*(9/5)+32)\n"
     ]
    }
   ],
   "source": [
    "# Convert from Celsius to Fahrenheit\n",
    "for i in range(0, 12):\n",
    " MySeries[i] = float(MySeries[i]*(9/5)+32)\n",
    "# Print the updated series on the screen\n",
    "print(MySeries.to_string())"
   ]
  },
  {
   "cell_type": "markdown",
   "metadata": {},
   "source": [
    "slide 3"
   ]
  },
  {
   "cell_type": "code",
   "execution_count": 24,
   "metadata": {},
   "outputs": [
    {
     "name": "stdout",
     "output_type": "stream",
     "text": [
      "   A  B\n",
      "0  1  2\n",
      "1  3  4\n",
      "2  5  6\n"
     ]
    }
   ],
   "source": [
    "# Initialise a data frame using constants\n",
    "DataFrame = pd.DataFrame(columns=['A', 'B'], data=[[1, 2], [3, 4], [5, 6]])\n",
    "# Display the data frame on the screen\n",
    "print(DataFrame.to_string())"
   ]
  },
  {
   "cell_type": "code",
   "execution_count": null,
   "metadata": {},
   "outputs": [],
   "source": []
  },
  {
   "cell_type": "code",
   "execution_count": null,
   "metadata": {},
   "outputs": [],
   "source": []
  },
  {
   "cell_type": "code",
   "execution_count": null,
   "metadata": {},
   "outputs": [],
   "source": []
  },
  {
   "cell_type": "code",
   "execution_count": null,
   "metadata": {},
   "outputs": [],
   "source": []
  },
  {
   "cell_type": "code",
   "execution_count": null,
   "metadata": {},
   "outputs": [],
   "source": []
  },
  {
   "cell_type": "code",
   "execution_count": null,
   "metadata": {},
   "outputs": [],
   "source": []
  }
 ],
 "metadata": {
  "kernelspec": {
   "display_name": "Python 3",
   "language": "python",
   "name": "python3"
  },
  "language_info": {
   "codemirror_mode": {
    "name": "ipython",
    "version": 3
   },
   "file_extension": ".py",
   "mimetype": "text/x-python",
   "name": "python",
   "nbconvert_exporter": "python",
   "pygments_lexer": "ipython3",
   "version": "3.12.0"
  }
 },
 "nbformat": 4,
 "nbformat_minor": 2
}
